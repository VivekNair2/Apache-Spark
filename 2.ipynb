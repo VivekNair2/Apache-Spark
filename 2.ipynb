{
  "cells": [
    {
      "cell_type": "code",
      "execution_count": 5,
      "metadata": {
        "id": "JfELwthVNgp-"
      },
      "outputs": [],
      "source": [
        "from pyspark.sql import SparkSession\n",
        "import pandas as pd"
      ]
    },
    {
      "cell_type": "code",
      "execution_count": 3,
      "metadata": {
        "id": "IQqFZF5LNsig"
      },
      "outputs": [],
      "source": [
        "spark=SparkSession.builder.appName('Practise').getOrCreate()"
      ]
    },
    {
      "cell_type": "code",
      "execution_count": 4,
      "metadata": {
        "colab": {
          "base_uri": "https://localhost:8080/",
          "height": 219
        },
        "id": "gJA-XYECN3RT",
        "outputId": "e1d03f4f-32d1-4689-c03c-703d93b86aac"
      },
      "outputs": [
        {
          "data": {
            "text/html": [
              "\n",
              "            <div>\n",
              "                <p><b>SparkSession - in-memory</b></p>\n",
              "                \n",
              "        <div>\n",
              "            <p><b>SparkContext</b></p>\n",
              "\n",
              "            <p><a href=\"http://5bf942624e62:4040\">Spark UI</a></p>\n",
              "\n",
              "            <dl>\n",
              "              <dt>Version</dt>\n",
              "                <dd><code>v3.5.1</code></dd>\n",
              "              <dt>Master</dt>\n",
              "                <dd><code>local[*]</code></dd>\n",
              "              <dt>AppName</dt>\n",
              "                <dd><code>Practise</code></dd>\n",
              "            </dl>\n",
              "        </div>\n",
              "        \n",
              "            </div>\n",
              "        "
            ],
            "text/plain": [
              "<pyspark.sql.session.SparkSession at 0x78b693f2d1f0>"
            ]
          },
          "execution_count": 4,
          "metadata": {},
          "output_type": "execute_result"
        }
      ],
      "source": [
        "spark"
      ]
    },
    {
      "cell_type": "code",
      "execution_count": 6,
      "metadata": {
        "id": "H4VwEZG-N9ab"
      },
      "outputs": [],
      "source": [
        "#header true to consider row  1 as column names and inferSchema true to take the csv data types\n",
        "df=spark.read.csv('/content/sample_data/california_housing_test.csv',header=True,inferSchema=True)"
      ]
    },
    {
      "cell_type": "code",
      "execution_count": 34,
      "metadata": {
        "colab": {
          "base_uri": "https://localhost:8080/"
        },
        "id": "lZIFNMD9ONBj",
        "outputId": "82a5f284-fdfd-4978-f71c-635e247589b2"
      },
      "outputs": [
        {
          "name": "stdout",
          "output_type": "stream",
          "text": [
            "+---------+--------+------------------+-----------+--------------+----------+----------+-------------+------------------+\n",
            "|longitude|latitude|housing_median_age|total_rooms|total_bedrooms|population|households|median_income|median_house_value|\n",
            "+---------+--------+------------------+-----------+--------------+----------+----------+-------------+------------------+\n",
            "|  -122.05|   37.37|              27.0|     3885.0|         661.0|    1537.0|     606.0|       6.6085|          344700.0|\n",
            "|   -118.3|   34.26|              43.0|     1510.0|         310.0|     809.0|     277.0|        3.599|          176500.0|\n",
            "|  -117.81|   33.78|              27.0|     3589.0|         507.0|    1484.0|     495.0|       5.7934|          270500.0|\n",
            "+---------+--------+------------------+-----------+--------------+----------+----------+-------------+------------------+\n",
            "only showing top 3 rows\n",
            "\n"
          ]
        }
      ],
      "source": [
        "df.show(3)"
      ]
    },
    {
      "cell_type": "code",
      "execution_count": 36,
      "metadata": {
        "colab": {
          "base_uri": "https://localhost:8080/"
        },
        "id": "NY6QmEFVYo_u",
        "outputId": "372cdaaf-2f06-438d-d420-f6c2bf7fd540"
      },
      "outputs": [
        {
          "name": "stdout",
          "output_type": "stream",
          "text": [
            "+--------+------------------+\n",
            "|latitude|housing_median_age|\n",
            "+--------+------------------+\n",
            "|   37.37|              27.0|\n",
            "|   34.26|              43.0|\n",
            "|   33.78|              27.0|\n",
            "+--------+------------------+\n",
            "only showing top 3 rows\n",
            "\n"
          ]
        }
      ],
      "source": [
        "df.filter('housing_median_age>=27').select(['latitude','housing_median_age']).show(3)"
      ]
    },
    {
      "cell_type": "code",
      "execution_count": 37,
      "metadata": {
        "id": "0rGNgme6ZAwq"
      },
      "outputs": [],
      "source": [
        "#Group By operation\n",
        "df=spark.read.csv('/content/test.csv',header=True,inferSchema=True)"
      ]
    },
    {
      "cell_type": "code",
      "execution_count": 38,
      "metadata": {
        "colab": {
          "base_uri": "https://localhost:8080/"
        },
        "id": "UhR-mVqLaCQd",
        "outputId": "03838ace-b014-4849-d208-ce4f14ccc900"
      },
      "outputs": [
        {
          "name": "stdout",
          "output_type": "stream",
          "text": [
            "+---+-------+---+------+---------+------+-----------+----------+-----------------+\n",
            "| id|   name|age|gender|     city|salary| department| join_date|performance_score|\n",
            "+---+-------+---+------+---------+------+-----------+----------+-----------------+\n",
            "|  1|  Alice| 23|Female|   Mumbai| 55000|         HR|2022-03-15|              8.2|\n",
            "|  2|    Bob| 34|  Male|    Delhi| 72000|Engineering|2021-07-22|              7.5|\n",
            "|  3|Charlie| 29|  Male|Bangalore| 61000|  Marketing|2023-01-10|              6.9|\n",
            "+---+-------+---+------+---------+------+-----------+----------+-----------------+\n",
            "only showing top 3 rows\n",
            "\n"
          ]
        }
      ],
      "source": [
        "df.show(3)"
      ]
    },
    {
      "cell_type": "code",
      "execution_count": 41,
      "metadata": {
        "colab": {
          "base_uri": "https://localhost:8080/"
        },
        "id": "k9kr4PAEaGwK",
        "outputId": "2b80565c-4e8f-416a-9ed8-45c2acfcc1c6"
      },
      "outputs": [
        {
          "name": "stdout",
          "output_type": "stream",
          "text": [
            "+------+-----------+\n",
            "|gender|sum(salary)|\n",
            "+------+-----------+\n",
            "|  NULL|       NULL|\n",
            "|Female|     566000|\n",
            "|  Male|     698000|\n",
            "+------+-----------+\n",
            "\n"
          ]
        }
      ],
      "source": [
        "df.groupBy('gender').sum('salary').show()"
      ]
    },
    {
      "cell_type": "code",
      "execution_count": 65,
      "metadata": {
        "id": "JbEQf0VVaNax"
      },
      "outputs": [],
      "source": [
        "from pyspark.ml.feature import VectorAssembler\n",
        "from pyspark.sql.functions import col, isnan\n",
        "df = df.na.drop(subset=[\"age\", \"salary\", \"performance_score\"])\n",
        "df = df.filter(~(isnan(col(\"age\")) | isnan(col(\"salary\")) | isnan(col(\"performance_score\"))))\n",
        "featureassembler=VectorAssembler(inputCols=['age','salary'],outputCol='X')\n"
      ]
    },
    {
      "cell_type": "code",
      "execution_count": 66,
      "metadata": {
        "id": "IhDZAoVBdsYO"
      },
      "outputs": [],
      "source": [
        "output=featureassembler.transform(df)\n"
      ]
    },
    {
      "cell_type": "code",
      "execution_count": 67,
      "metadata": {
        "colab": {
          "base_uri": "https://localhost:8080/"
        },
        "id": "u_HR06b0dvMU",
        "outputId": "1464cd81-0d76-4919-8315-529e6c084bb1"
      },
      "outputs": [
        {
          "name": "stdout",
          "output_type": "stream",
          "text": [
            "+---+-------+---+------+---------+------+-----------+----------+-----------------+--------------+\n",
            "| id|   name|age|gender|     city|salary| department| join_date|performance_score|             X|\n",
            "+---+-------+---+------+---------+------+-----------+----------+-----------------+--------------+\n",
            "|  1|  Alice| 23|Female|   Mumbai| 55000|         HR|2022-03-15|              8.2|[23.0,55000.0]|\n",
            "|  2|    Bob| 34|  Male|    Delhi| 72000|Engineering|2021-07-22|              7.5|[34.0,72000.0]|\n",
            "|  3|Charlie| 29|  Male|Bangalore| 61000|  Marketing|2023-01-10|              6.9|[29.0,61000.0]|\n",
            "+---+-------+---+------+---------+------+-----------+----------+-----------------+--------------+\n",
            "only showing top 3 rows\n",
            "\n"
          ]
        }
      ],
      "source": [
        "output.show(3)"
      ]
    },
    {
      "cell_type": "code",
      "execution_count": 68,
      "metadata": {
        "id": "0x4hEmexd2Rd"
      },
      "outputs": [],
      "source": [
        "final_data=output.select('X', 'performance_score')\n",
        "final_data = final_data.na.drop()"
      ]
    },
    {
      "cell_type": "code",
      "execution_count": 69,
      "metadata": {
        "id": "ftvXND0meHil"
      },
      "outputs": [],
      "source": [
        "from pyspark.ml.regression import LinearRegression\n",
        "train_data,test_data=final_data.randomSplit([0.75,0.25])\n",
        "regressor=LinearRegression(featuresCol='X',labelCol='performance_score')\n",
        "regressor=regressor.fit(train_data)"
      ]
    },
    {
      "cell_type": "code",
      "execution_count": 70,
      "metadata": {
        "colab": {
          "base_uri": "https://localhost:8080/"
        },
        "id": "TRZNEST9enxG",
        "outputId": "1075a5b6-eebf-4fe3-f445-dfb885c8bef0"
      },
      "outputs": [
        {
          "data": {
            "text/plain": [
              "9.593835463301682"
            ]
          },
          "execution_count": 70,
          "metadata": {},
          "output_type": "execute_result"
        }
      ],
      "source": [
        "regressor.intercept"
      ]
    },
    {
      "cell_type": "code",
      "execution_count": 76,
      "metadata": {
        "id": "HFYk0yJeg5d3"
      },
      "outputs": [],
      "source": [
        "pred_results=regressor.evaluate(test_data)"
      ]
    },
    {
      "cell_type": "code",
      "execution_count": 77,
      "metadata": {
        "colab": {
          "base_uri": "https://localhost:8080/"
        },
        "id": "ewV84tdUg7cW",
        "outputId": "c95f3eee-da91-4706-e041-93f1b19f4d07"
      },
      "outputs": [
        {
          "data": {
            "text/plain": [
              "(0.4545144074693399, 0.29938206252284505)"
            ]
          },
          "execution_count": 77,
          "metadata": {},
          "output_type": "execute_result"
        }
      ],
      "source": [
        "pred_results.meanAbsoluteError,pred_results.meanSquaredError"
      ]
    },
    {
      "cell_type": "code",
      "execution_count": null,
      "metadata": {
        "id": "F6rQJ8n3hLoj"
      },
      "outputs": [],
      "source": []
    }
  ],
  "metadata": {
    "colab": {
      "provenance": []
    },
    "kernelspec": {
      "display_name": "Python 3",
      "name": "python3"
    },
    "language_info": {
      "name": "python"
    }
  },
  "nbformat": 4,
  "nbformat_minor": 0
}
